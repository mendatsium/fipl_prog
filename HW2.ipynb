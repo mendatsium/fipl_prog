{
 "cells": [
  {
   "cell_type": "markdown",
   "metadata": {
    "id": "0d9ON-OIqN_h"
   },
   "source": [
    "#### Задача 1. \n",
    "\n",
    "Дана строка. Разрежьте ее на две равные части (если длина строки — четная, а если длина строки нечетная, то длина первой части должна быть на один символ больше). Переставьте эти две части местами, результат запишите в новую строку и выведите на экран."
   ]
  },
  {
   "cell_type": "code",
   "execution_count": 6,
   "metadata": {
    "id": "ECeHHn5PqBg1"
   },
   "outputs": [
    {
     "name": "stdin",
     "output_type": "stream",
     "text": [
      " ssff\n"
     ]
    },
    {
     "name": "stdout",
     "output_type": "stream",
     "text": [
      "ffss\n"
     ]
    }
   ],
   "source": [
    "a = input()\n",
    "\n",
    "if not len(a) % 2:\n",
    "    s = a[len(a) // 2:] + a[:len(a) // 2]\n",
    "else:\n",
    "    s = a[len(a) // 2 + 1:] + a[:len(a) // 2 + 1]\n",
    "print(s)"
   ]
  },
  {
   "cell_type": "markdown",
   "metadata": {
    "id": "Qg993zqUqQGh"
   },
   "source": [
    "#### Задача 2. \n",
    "\n",
    "Дана строка. Если в этой строке буква f встречается только один раз, выведите её индекс. Если она встречается два и более раз, выведите индекс её первого и последнего появления. Если буква f в данной строке не встречается, ничего не выводите."
   ]
  },
  {
   "cell_type": "code",
   "execution_count": 11,
   "metadata": {
    "id": "61cnzTjVqTsN"
   },
   "outputs": [
    {
     "name": "stdin",
     "output_type": "stream",
     "text": [
      " father\n"
     ]
    },
    {
     "name": "stdout",
     "output_type": "stream",
     "text": [
      "0\n"
     ]
    }
   ],
   "source": [
    "a = input()\n",
    "\n",
    "if a.count('f') == 1:\n",
    "    print(a.find('f'))\n",
    "elif a.count('f') > 1:\n",
    "    print(a.find('f'), a.rfind('f'))"
   ]
  },
  {
   "cell_type": "markdown",
   "metadata": {
    "id": "Tg55pFl-qT94"
   },
   "source": [
    "#### Задача 3. \n",
    "\n",
    "Дана строка. Найдите в этой строке второе вхождение буквы f, и выведите индекс этого вхождения. Если буква f в данной строке встречается только один раз, выведите число -1, а если не встречается ни разу, выведите число -2."
   ]
  },
  {
   "cell_type": "code",
   "execution_count": 20,
   "metadata": {
    "id": "z2ZHBlqfqXeQ"
   },
   "outputs": [
    {
     "name": "stdin",
     "output_type": "stream",
     "text": [
      " fuck\n"
     ]
    },
    {
     "name": "stdout",
     "output_type": "stream",
     "text": [
      "-1\n"
     ]
    }
   ],
   "source": [
    "a = input()\n",
    "\n",
    "if a.count('f') == 0:\n",
    "    print(-2)\n",
    "else:\n",
    "    print(a.find('f', a.find('f') + 1))"
   ]
  },
  {
   "cell_type": "markdown",
   "metadata": {
    "id": "_1tOdiaqqX04"
   },
   "source": [
    "#### Задача 4. \n",
    "\n",
    "Пользователь вводит какие-то числа; программа должна выводить в ответ, четное число или нечетное, пока не будет введен 0."
   ]
  },
  {
   "cell_type": "code",
   "execution_count": 23,
   "metadata": {
    "id": "Rvr_eEqjqrkx"
   },
   "outputs": [
    {
     "name": "stdin",
     "output_type": "stream",
     "text": [
      " 4\n"
     ]
    },
    {
     "name": "stdout",
     "output_type": "stream",
     "text": [
      "Четное\n"
     ]
    },
    {
     "name": "stdin",
     "output_type": "stream",
     "text": [
      " 6\n"
     ]
    },
    {
     "name": "stdout",
     "output_type": "stream",
     "text": [
      "Четное\n"
     ]
    },
    {
     "name": "stdin",
     "output_type": "stream",
     "text": [
      " 5\n"
     ]
    },
    {
     "name": "stdout",
     "output_type": "stream",
     "text": [
      "Нечетное\n"
     ]
    },
    {
     "name": "stdin",
     "output_type": "stream",
     "text": [
      " 0\n"
     ]
    }
   ],
   "source": [
    "a = int(input())\n",
    "\n",
    "while a != 0:\n",
    "    if not a % 2:\n",
    "        print('Четное')\n",
    "    else:\n",
    "        print('Нечетное')\n",
    "    a = int(input())"
   ]
  },
  {
   "cell_type": "markdown",
   "metadata": {
    "id": "JwPe3Dmvqrth"
   },
   "source": [
    "#### Задача 5. \n",
    "\n",
    "Сперва пользователь вводит число n, а потом вводит n чисел. Нужно посчитать среднее арифметическое."
   ]
  },
  {
   "cell_type": "code",
   "execution_count": 26,
   "metadata": {
    "id": "tSB_rTPfq3Wp"
   },
   "outputs": [
    {
     "name": "stdin",
     "output_type": "stream",
     "text": [
      " 3\n",
      " 1\n",
      " 2\n",
      " 3\n"
     ]
    },
    {
     "name": "stdout",
     "output_type": "stream",
     "text": [
      "2.0\n"
     ]
    }
   ],
   "source": [
    "n = int(input())\n",
    "sum = 0\n",
    "\n",
    "for i in range(n):\n",
    "    m = int(input())\n",
    "    sum = m + sum\n",
    "\n",
    "print(sum / n)"
   ]
  },
  {
   "cell_type": "markdown",
   "metadata": {
    "id": "8-VHAaezq3mg"
   },
   "source": [
    "#### Задача 6. \n",
    "\n",
    "Дано натуральное число n. Напечатайте все n-значные нечетные натуральные числа в порядке убывания. Условными конструкциями пользоваться запрещено.\n",
    "\n",
    "То есть, для введенного 2 должно начинаться как:\n",
    "\n",
    "    99\n",
    "    97\n",
    "    95\n",
    "    93\n",
    "    91\n",
    "    ..."
   ]
  },
  {
   "cell_type": "code",
   "execution_count": 33,
   "metadata": {
    "id": "FA2wf7xJq-GR"
   },
   "outputs": [
    {
     "name": "stdin",
     "output_type": "stream",
     "text": [
      " 1\n"
     ]
    },
    {
     "name": "stdout",
     "output_type": "stream",
     "text": [
      "9\n",
      "7\n",
      "5\n",
      "3\n",
      "1\n"
     ]
    }
   ],
   "source": [
    "n = int(input())\n",
    "\n",
    "for i in range(10 ** n - 1, 10 ** (n - 1) - 1, -2):\n",
    "    print(i)"
   ]
  },
  {
   "cell_type": "markdown",
   "metadata": {
    "id": "J6mR5A8urRDQ"
   },
   "source": [
    "#### Задача 7. \n",
    "\n",
    "По данному натуральному n ≤ 9 выведите лесенку из n ступенек, i-я ступенька состоит из чисел от 1 до i без пробелов. То есть, должно быть что-то такое:\n",
    "\n",
    "    1\n",
    "    12\n",
    "    123\n",
    "    1234"
   ]
  },
  {
   "cell_type": "code",
   "execution_count": 42,
   "metadata": {
    "id": "cDCzajvgrVBh"
   },
   "outputs": [
    {
     "name": "stdin",
     "output_type": "stream",
     "text": [
      " 3\n"
     ]
    },
    {
     "name": "stdout",
     "output_type": "stream",
     "text": [
      "\n",
      "1\n",
      "12\n",
      "123\n"
     ]
    }
   ],
   "source": [
    "n = int(input())\n",
    "\n",
    "for i in range(n + 1):\n",
    "    for m in range (1, i + 1):\n",
    "        print(m, end = '')\n",
    "    print()"
   ]
  },
  {
   "cell_type": "markdown",
   "metadata": {
    "id": "WRuR7thtrVVA"
   },
   "source": [
    "#### Задача 8. \n",
    "\n",
    "Пользователь вводит целые (не обязательно положительные) числа. Программа должна вывести самое большое введенное число. Списками пользоваться нельзя."
   ]
  },
  {
   "cell_type": "code",
   "execution_count": 46,
   "metadata": {
    "id": "5PFWjAunrdw5"
   },
   "outputs": [
    {
     "name": "stdin",
     "output_type": "stream",
     "text": [
      "Сколько чисел вы будете вводить? 3\n",
      " -4567\n",
      " 3\n",
      " 4\n"
     ]
    },
    {
     "name": "stdout",
     "output_type": "stream",
     "text": [
      "4\n"
     ]
    }
   ],
   "source": [
    "N = int(input('Сколько чисел вы будете вводить?'))\n",
    "max = int(input())\n",
    " \n",
    "for i in range(N - 1):\n",
    "    p = int(input())\n",
    "    if p > max:\n",
    "        max = p\n",
    "print(max)"
   ]
  }
 ],
 "metadata": {
  "colab": {
   "authorship_tag": "ABX9TyMJ6kEjWswrOFh1/wUY5nk7",
   "collapsed_sections": [],
   "provenance": []
  },
  "kernelspec": {
   "display_name": "Python 3 (ipykernel)",
   "language": "python",
   "name": "python3"
  },
  "language_info": {
   "codemirror_mode": {
    "name": "ipython",
    "version": 3
   },
   "file_extension": ".py",
   "mimetype": "text/x-python",
   "name": "python",
   "nbconvert_exporter": "python",
   "pygments_lexer": "ipython3",
   "version": "3.11.4"
  }
 },
 "nbformat": 4,
 "nbformat_minor": 4
}
