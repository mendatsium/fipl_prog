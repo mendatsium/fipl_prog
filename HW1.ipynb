{
 "cells": [
  {
   "cell_type": "markdown",
   "metadata": {
    "id": "S725w4FMgGQE"
   },
   "source": [
    "# Задача 1. \n",
    "\n",
    "Напишите программу, которая принимает на вход число секунд и возвращает ответ в часах, минутах и секундах в виде 12:13:14. Подсказка: нужно использовать остаток от деления и целочисленное деление, а также параметр sep функции print(). Также можно воспользоваться функцией divmod(), но это для продвинутых."
   ]
  },
  {
   "cell_type": "code",
   "execution_count": null,
   "metadata": {
    "id": "OiXzgCcTgC7z"
   },
   "outputs": [],
   "source": [
    "# your code here"
   ]
  },
  {
   "cell_type": "markdown",
   "metadata": {
    "id": "eAzjRy5qgbos"
   },
   "source": [
    "# Задача 2. \n",
    "\n",
    "Напишите программу, которая переводит вес из килограммов в фунты. (Вес вводится пользователем)"
   ]
  },
  {
   "cell_type": "code",
   "execution_count": null,
   "metadata": {
    "id": "34xD1ujugmIr"
   },
   "outputs": [],
   "source": [
    "# your code here"
   ]
  },
  {
   "cell_type": "markdown",
   "metadata": {
    "id": "REk8Ryh3gnVb"
   },
   "source": [
    "# Задача 3.\n",
    "\n",
    "Напишите программу, которая рассчитывает процент от целого: пользователь вводит объем целого и объем части. Программа должна вывести \"хх%\"."
   ]
  },
  {
   "cell_type": "code",
   "execution_count": null,
   "metadata": {
    "id": "MlU7WYtogs7M"
   },
   "outputs": [],
   "source": [
    "# your code here"
   ]
  },
  {
   "cell_type": "markdown",
   "metadata": {
    "id": "uckPzU_cgukj"
   },
   "source": [
    "# Задача 4. \n",
    "\n",
    "Пользователь вводит строчку. Наша задача - вернуть ее задом наперед (н-р, \"йцукен\" должно превратиться в \"некуцй\"). Используйте срезы."
   ]
  },
  {
   "cell_type": "code",
   "execution_count": null,
   "metadata": {
    "id": "O3M8ytzlg3wE"
   },
   "outputs": [],
   "source": [
    "# your code here"
   ]
  },
  {
   "cell_type": "markdown",
   "metadata": {
    "id": "7xbHAfesg458"
   },
   "source": [
    "# Задача 5. \n",
    "\n",
    "Пользователь вводит строчку, в которой попадаются символы \"@\". Нужно удалить все такие символы."
   ]
  },
  {
   "cell_type": "code",
   "execution_count": null,
   "metadata": {
    "id": "8HyJ17ydg8_8"
   },
   "outputs": [],
   "source": [
    "# your code here"
   ]
  },
  {
   "cell_type": "markdown",
   "metadata": {
    "id": "rNgjN_Rog99E"
   },
   "source": [
    "# Задача 6. \n",
    "\n",
    "Пользователь ввел несколько слов, разделенных пробелами. Посчитайте количество слов в строке (если знаете несколько способов - сделайте это несколькими способами)."
   ]
  },
  {
   "cell_type": "code",
   "execution_count": null,
   "metadata": {
    "id": "Modj7OKUhA8s"
   },
   "outputs": [],
   "source": [
    "# your code here"
   ]
  },
  {
   "cell_type": "markdown",
   "metadata": {
    "id": "r3TehkynhCK0"
   },
   "source": [
    "# Задача 7. \n",
    "\n",
    "Пользователь вводит некий инфинитив глагола. Программа должна проверить, заканчивается ли глагол на -ся и содержит ли он приставку \"пере\" (т.е., начинается с нее). Можно использовать методы, а можно срезы."
   ]
  },
  {
   "cell_type": "code",
   "execution_count": null,
   "metadata": {
    "id": "ePS6DDKOhGRy"
   },
   "outputs": [],
   "source": [
    "# your code here"
   ]
  },
  {
   "cell_type": "markdown",
   "metadata": {
    "id": "KEbDUf-fhHrK"
   },
   "source": [
    "# Задача 8. \n",
    "\n",
    "Дано положительное действительное число X. Выведите его первую цифру после десятичной точки."
   ]
  },
  {
   "cell_type": "code",
   "execution_count": null,
   "metadata": {
    "id": "U8ljbLqohS8M"
   },
   "outputs": [],
   "source": [
    "# your code here"
   ]
  },
  {
   "cell_type": "markdown",
   "metadata": {
    "id": "FNv05ieohUC7"
   },
   "source": [
    "# Задача 9. \n",
    "\n",
    "Пишем скрипт, который проверит, есть ли символ *а* в введенной пользователем строке, подсчитает, сколько в строке символов *а*, и выведет индексы первого и последнего их вхождения."
   ]
  },
  {
   "cell_type": "code",
   "execution_count": null,
   "metadata": {
    "id": "ZEvx8ZJOhb2j"
   },
   "outputs": [],
   "source": [
    "# your code here"
   ]
  },
  {
   "cell_type": "markdown",
   "metadata": {
    "id": "bPbu167whgwb"
   },
   "source": [
    "# Задача 10. \n",
    "\n",
    "Вводится целое число n. Программа должна вывести \"n коров\", при этом согласовать слово \"корова\" с числительным. Число может быть сколь угодно большим."
   ]
  },
  {
   "cell_type": "code",
   "execution_count": null,
   "metadata": {
    "id": "-_9mCMVHho-8"
   },
   "outputs": [],
   "source": [
    "# your code here"
   ]
  }
 ],
 "metadata": {
  "colab": {
   "provenance": []
  },
  "kernelspec": {
   "display_name": "Python 3 (ipykernel)",
   "language": "python",
   "name": "python3"
  },
  "language_info": {
   "codemirror_mode": {
    "name": "ipython",
    "version": 3
   },
   "file_extension": ".py",
   "mimetype": "text/x-python",
   "name": "python",
   "nbconvert_exporter": "python",
   "pygments_lexer": "ipython3",
   "version": "3.11.4"
  }
 },
 "nbformat": 4,
 "nbformat_minor": 4
}
