{
 "cells": [
  {
   "cell_type": "markdown",
   "metadata": {
    "id": "OIPMYYRPcL7N"
   },
   "source": [
    "#### Задача 1. \n",
    "\n",
    "Напишите функцию, которая будет вычислять площадь треугольника по его основанию и высоте. "
   ]
  },
  {
   "cell_type": "code",
   "execution_count": null,
   "metadata": {
    "id": "0tiJomvycKUf"
   },
   "outputs": [],
   "source": [
    "def triangle_area(a, h):\n",
    "  return 1/2 * a * h"
   ]
  },
  {
   "cell_type": "markdown",
   "metadata": {
    "id": "A04KTs-9csYE"
   },
   "source": [
    "#### Задача 2. \n",
    "\n",
    "Напишите функцию, которая будет принимать три аргумента: a, b, c и возвращать корни квадратного уравнения вида $a x^2 + b x + c$. Формулы для вычислений, разумеется, не воспрещается гуглить. "
   ]
  },
  {
   "cell_type": "code",
   "execution_count": 7,
   "metadata": {
    "id": "qcla3UeZdCzs"
   },
   "outputs": [
    {
     "name": "stdin",
     "output_type": "stream",
     "text": [
      " 3\n",
      " 4\n",
      " 5\n"
     ]
    },
    {
     "name": "stdout",
     "output_type": "stream",
     "text": [
      "((-4+1.1055415967851332j), (-4-1.1055415967851332j))\n"
     ]
    }
   ],
   "source": [
    "from cmath import sqrt\n",
    "def roots(a, b, c):\n",
    "    D = b ** 2 - 4 * a * c\n",
    "    x1 = -b + sqrt(D) / (2 * a)\n",
    "    x2 = -b - sqrt(D) / (2 * a)\n",
    "    return x1, x2 \n",
    "\n",
    "#a = int(input())\n",
    "#b = int(input())\n",
    "#c = int(input())\n",
    "#ans = roots(a, b, c)\n",
    "#print(ans)"
   ]
  },
  {
   "cell_type": "markdown",
   "metadata": {
    "id": "Q5yXY75BdEAs"
   },
   "source": [
    "#### Задача 3. \n",
    "\n",
    "Напишите функцию, которая будет принимать строку и проверять, что все ее символы - кириллические буквы. Для простоты буквы с диакритиками (кроме ё и й) не включаем. "
   ]
  },
  {
   "cell_type": "code",
   "execution_count": 51,
   "metadata": {
    "id": "n7q7bCTedSTk"
   },
   "outputs": [],
   "source": [
    "def cyrillic(string):\n",
    "    end = len(string)\n",
    "    for i in range(0, end):\n",
    "        if string[i] < 'а' or string[i] > 'я':\n",
    "            return False\n",
    "    return True\n",
    "\n",
    "#string = input()\n",
    "#cyrillic(string)"
   ]
  },
  {
   "cell_type": "markdown",
   "metadata": {
    "id": "YEswvwmsdTJc"
   },
   "source": [
    "#### Задача 4. \n",
    "\n",
    "Напишите функцию, которая будет с помощью рекурсии проверять, что строка является палиндромом. "
   ]
  },
  {
   "cell_type": "code",
   "execution_count": null,
   "metadata": {
    "id": "48LRGSbOdcO0"
   },
   "outputs": [],
   "source": [
    "def palindrome(string):\n",
    "  # your code here"
   ]
  },
  {
   "cell_type": "markdown",
   "metadata": {
    "id": "ugibvqb0dch8"
   },
   "source": [
    "#### Задача 5. \n",
    "\n",
    "Шифр Цезаря - самый простой и известный способ шифровать свои данные. Его смысл в том, чтобы все буквы заменить по алфавиту со сдвигом, например, если сдвиг = 2, то буква а превратится в в, б - в г и так далее. Я будет превращаться в б. (Подробнее можно почитать на вики). \n",
    "\n",
    "Напишите функцию для расшифровки строки. Функция принимает строку и число = сдвиг и должна вернуть расшифрованную строку. \n",
    "\n",
    "Подсказка: удобно использовать функции ord() и chr(), но можно и просто индексы. "
   ]
  },
  {
   "cell_type": "code",
   "execution_count": null,
   "metadata": {
    "id": "rRdfZ8EzeyJO"
   },
   "outputs": [],
   "source": [
    "def caesar(text, shift):\n",
    "  # your code here"
   ]
  },
  {
   "cell_type": "markdown",
   "metadata": {
    "id": "fc58Z5KkfD7H"
   },
   "source": [
    "#### Задача 6. \n",
    "\n",
    "Напишите функцию, которая будет принимать строку со всевозможными знаками пунктуации и возвращать ее же без этих знаков, н-р:\n",
    "\n",
    "    Дом, который построил Джек! \n",
    "    =>\n",
    "    Дом который построил Джек"
   ]
  },
  {
   "cell_type": "code",
   "execution_count": null,
   "metadata": {
    "id": "Ix-JqYuPfc_f"
   },
   "outputs": [],
   "source": [
    "def nopunct(text):\n",
    "  # your code here\n",
    "  return text"
   ]
  }
 ],
 "metadata": {
  "colab": {
   "authorship_tag": "ABX9TyNq/trjHYhQvy3QOMyEp4yR",
   "collapsed_sections": [],
   "provenance": []
  },
  "kernelspec": {
   "display_name": "Python 3 (ipykernel)",
   "language": "python",
   "name": "python3"
  },
  "language_info": {
   "codemirror_mode": {
    "name": "ipython",
    "version": 3
   },
   "file_extension": ".py",
   "mimetype": "text/x-python",
   "name": "python",
   "nbconvert_exporter": "python",
   "pygments_lexer": "ipython3",
   "version": "3.11.4"
  }
 },
 "nbformat": 4,
 "nbformat_minor": 4
}
