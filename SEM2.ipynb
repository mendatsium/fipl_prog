{
 "cells": [
  {
   "cell_type": "markdown",
   "metadata": {
    "id": "UU24H0xqfUJU"
   },
   "source": [
    "#### Повторение"
   ]
  },
  {
   "cell_type": "markdown",
   "metadata": {
    "id": "82BfNJX7e5M8"
   },
   "source": [
    "Пользователь вводит число. Считайте его с помощью функции input(), превратите в тип int и проверьте, является ли оно четным. "
   ]
  },
  {
   "cell_type": "code",
   "execution_count": null,
   "metadata": {
    "id": "w6kmRElme2bw"
   },
   "outputs": [],
   "source": []
  },
  {
   "cell_type": "markdown",
   "metadata": {
    "id": "IBcltVyDfC5E"
   },
   "source": [
    "Как узнать последнюю цифру целого числа?"
   ]
  },
  {
   "cell_type": "code",
   "execution_count": null,
   "metadata": {
    "id": "dMImXaUQfF5k"
   },
   "outputs": [],
   "source": [
    "# 123\n",
    "# 3"
   ]
  },
  {
   "cell_type": "markdown",
   "metadata": {
    "id": "V4M0groKfGJT"
   },
   "source": [
    "С помощью арифметических операций // и % вычислите сумму цифр трехзначного целого числа. "
   ]
  },
  {
   "cell_type": "code",
   "execution_count": null,
   "metadata": {
    "id": "T_-Mcqq0fLDb"
   },
   "outputs": [],
   "source": []
  },
  {
   "cell_type": "markdown",
   "metadata": {
    "id": "3gJnHlf6fLQr"
   },
   "source": [
    "Вводится четырехзначное число - год: проверьте, является ли введенный год високосным (посмотрите в Википедии, какие условия должны выполняться для этого). "
   ]
  },
  {
   "cell_type": "code",
   "execution_count": null,
   "metadata": {
    "id": "4Dl8z_ApfS78"
   },
   "outputs": [],
   "source": []
  },
  {
   "cell_type": "markdown",
   "metadata": {
    "id": "34428I2ZfXQj"
   },
   "source": [
    "#### Строки"
   ]
  },
  {
   "cell_type": "markdown",
   "metadata": {
    "id": "jodcQvYBfYzr"
   },
   "source": [
    "Как узнать, что пользователь при вводе просто нажал enter?"
   ]
  },
  {
   "cell_type": "code",
   "execution_count": null,
   "metadata": {
    "id": "0wubl7wBfcI0"
   },
   "outputs": [],
   "source": [
    "s = input()  # ''\n",
    "if ...:\n",
    "  print('Ввели enter')\n"
   ]
  },
  {
   "cell_type": "markdown",
   "metadata": {
    "id": "QF6p5IeyfdKc"
   },
   "source": [
    "Пользователь вводит строку. проверьте, является ли она числом, и увеличьте это число на единицу."
   ]
  },
  {
   "cell_type": "code",
   "execution_count": null,
   "metadata": {
    "id": "oB7J0pn4fflM"
   },
   "outputs": [],
   "source": []
  },
  {
   "cell_type": "markdown",
   "metadata": {
    "id": "BoroO1sRffqy"
   },
   "source": [
    "Пользователь вводит строку. Проверьте, похожа ли она на название песни (слова начинаются с заглавной буквы)."
   ]
  },
  {
   "cell_type": "code",
   "execution_count": null,
   "metadata": {
    "id": "rpqexBORfhyM"
   },
   "outputs": [],
   "source": []
  },
  {
   "cell_type": "markdown",
   "metadata": {
    "id": "FWQbEUrDfh37"
   },
   "source": [
    "Пользователь вводит имя и фамилию через пробел. Выведите имя, а потом фамилию на отдельных строках (нужно воспользоваться срезами и методом find)."
   ]
  },
  {
   "cell_type": "code",
   "execution_count": null,
   "metadata": {
    "id": "VFyKWNrnfjsE"
   },
   "outputs": [],
   "source": []
  },
  {
   "cell_type": "markdown",
   "metadata": {
    "id": "gomfsZLlfmcs"
   },
   "source": [
    "Пользователь вводит строку - название файла с расширением. Выведите только расширение (все, что после точки). Точка может встречаться в самом названии файла, а в расширении - нет."
   ]
  },
  {
   "cell_type": "code",
   "execution_count": null,
   "metadata": {
    "id": "FWcouu2RfnFL"
   },
   "outputs": [],
   "source": []
  },
  {
   "cell_type": "markdown",
   "metadata": {
    "id": "GsrWoalmfoxf"
   },
   "source": [
    "Вычислите сумму цифр трехзначного числа, используя индексы строк. \n"
   ]
  },
  {
   "cell_type": "code",
   "execution_count": null,
   "metadata": {
    "id": "1TaS2MpYfp4c"
   },
   "outputs": [],
   "source": []
  }
 ],
 "metadata": {
  "colab": {
   "authorship_tag": "ABX9TyP5Ft57sTxspcux6/h0tGk9",
   "collapsed_sections": [],
   "provenance": []
  },
  "kernelspec": {
   "display_name": "Python 3 (ipykernel)",
   "language": "python",
   "name": "python3"
  },
  "language_info": {
   "codemirror_mode": {
    "name": "ipython",
    "version": 3
   },
   "file_extension": ".py",
   "mimetype": "text/x-python",
   "name": "python",
   "nbconvert_exporter": "python",
   "pygments_lexer": "ipython3",
   "version": "3.11.4"
  }
 },
 "nbformat": 4,
 "nbformat_minor": 4
}
