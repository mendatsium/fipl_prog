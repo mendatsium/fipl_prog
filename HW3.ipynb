{
 "cells": [
  {
   "attachments": {},
   "cell_type": "markdown",
   "metadata": {
    "id": "OIPMYYRPcL7N"
   },
   "source": [
    "#### Задача 1. \n",
    "\n",
    "Напишите функцию, которая будет вычислять площадь треугольника по его основанию и высоте. "
   ]
  },
  {
   "cell_type": "code",
   "execution_count": null,
   "metadata": {
    "id": "0tiJomvycKUf"
   },
   "outputs": [],
   "source": [
    "def triangle_area(a, h):\n",
    "  return 1/2 * a * h"
   ]
  },
  {
   "attachments": {},
   "cell_type": "markdown",
   "metadata": {
    "id": "A04KTs-9csYE"
   },
   "source": [
    "#### Задача 2. \n",
    "\n",
    "Напишите функцию, которая будет принимать три аргумента: a, b, c и возвращать корни квадратного уравнения вида $a x^2 + b x + c$. Формулы для вычислений, разумеется, не воспрещается гуглить. "
   ]
  },
  {
   "cell_type": "code",
   "execution_count": 7,
   "metadata": {
    "id": "qcla3UeZdCzs"
   },
   "outputs": [
    {
     "name": "stdout",
     "output_type": "stream",
     "text": [
      " 3\n",
      " 4\n",
      " 5\n"
     ]
    },
    {
     "name": "stdout",
     "output_type": "stream",
     "text": [
      "((-4+1.1055415967851332j), (-4-1.1055415967851332j))\n"
     ]
    }
   ],
   "source": [
    "def roots(a, b, c):\n",
    "    D = b ** 2 - 4 * a * c\n",
    "    x1 = -b + D ** 0.5 / (2 * a)\n",
    "    x2 = -b - D ** 0.5 / (2 * a)\n",
    "    return x1, x2 \n",
    "\n",
    "#a = int(input())\n",
    "#b = int(input())\n",
    "#c = int(input())\n",
    "#ans = roots(a, b, c)\n",
    "#print(ans)"
   ]
  },
  {
   "attachments": {},
   "cell_type": "markdown",
   "metadata": {
    "id": "Q5yXY75BdEAs"
   },
   "source": [
    "#### Задача 3. \n",
    "\n",
    "Напишите функцию, которая будет принимать строку и проверять, что все ее символы - кириллические буквы. Для простоты буквы с диакритиками (кроме ё и й) не включаем. "
   ]
  },
  {
   "cell_type": "code",
   "execution_count": 51,
   "metadata": {
    "id": "n7q7bCTedSTk"
   },
   "outputs": [],
   "source": [
    "def cyrillic(string):\n",
    "    end = len(string)\n",
    "    for i in range(end):\n",
    "        if string[i] < 'а' or string[i] > 'я' or string[i] < 'А' or string[i] > 'Я':\n",
    "            return False\n",
    "    return True\n",
    "\n",
    "#string = input()\n",
    "#cyrillic(string)"
   ]
  },
  {
   "attachments": {},
   "cell_type": "markdown",
   "metadata": {
    "id": "YEswvwmsdTJc"
   },
   "source": [
    "#### Задача 4. \n",
    "\n",
    "Напишите функцию, которая будет с помощью рекурсии проверять, что строка является палиндромом. "
   ]
  },
  {
   "cell_type": "code",
   "execution_count": 80,
   "metadata": {
    "id": "48LRGSbOdcO0"
   },
   "outputs": [
    {
     "name": "stdout",
     "output_type": "stream",
     "text": [
      " asdsa\n"
     ]
    },
    {
     "name": "stdout",
     "output_type": "stream",
     "text": [
      "True\n"
     ]
    }
   ],
   "source": [
    "def palindrome(string):\n",
    "    end = len(string)\n",
    "    if end >= 1:\n",
    "        return True\n",
    "    if string[0] == string[-1]:\n",
    "        return palindrome(string[1:-1])\n",
    "    return False\n",
    "        \n",
    "string = input()\n",
    "print(palindrome(string))"
   ]
  },
  {
   "attachments": {},
   "cell_type": "markdown",
   "metadata": {
    "id": "ugibvqb0dch8"
   },
   "source": [
    "#### Задача 5. \n",
    "\n",
    "Шифр Цезаря - самый простой и известный способ шифровать свои данные. Его смысл в том, чтобы все буквы заменить по алфавиту со сдвигом, например, если сдвиг = 2, то буква а превратится в в, б - в г и так далее. Я будет превращаться в б. (Подробнее можно почитать на вики). \n",
    "\n",
    "Напишите функцию для расшифровки строки. Функция принимает строку и число = сдвиг и должна вернуть расшифрованную строку. \n",
    "\n",
    "Подсказка: удобно использовать функции ord() и chr(), но можно и просто индексы. "
   ]
  },
  {
   "cell_type": "code",
   "execution_count": 6,
   "metadata": {
    "id": "rRdfZ8EzeyJO"
   },
   "outputs": [
    {
     "name": "stdout",
     "output_type": "stream",
     "text": [
      "ПгпГ фЭиоГ уЮдЦ!123"
     ]
    }
   ],
   "source": [
    "def caesar(text, shift):\n",
    "    for c in text:\n",
    "        if c.isupper():\n",
    "            old_index = ord(c) - ord(\"А\")\n",
    "            new_index = (old_index + shift) % 33\n",
    "            new_c = chr(new_index + ord(\"А\"))\n",
    "        elif c.islower():\n",
    "            old_index = ord(c) - ord(\"а\")\n",
    "            new_index = (old_index + shift) % 33\n",
    "            new_c = chr(new_index + ord(\"а\"))\n",
    "        else:\n",
    "            new_c = c\n",
    "        print(new_c, end = \"\")\n",
    "\n",
    "text = input()\n",
    "shift = int(input())\n",
    "caesar(text, shift)"
   ]
  },
  {
   "attachments": {},
   "cell_type": "markdown",
   "metadata": {
    "id": "fc58Z5KkfD7H"
   },
   "source": [
    "#### Задача 6. \n",
    "\n",
    "Напишите функцию, которая будет принимать строку со всевозможными знаками пунктуации и возвращать ее же без этих знаков, н-р:\n",
    "\n",
    "    Дом, который построил Джек! \n",
    "    =>\n",
    "    Дом который построил Джек"
   ]
  },
  {
   "cell_type": "code",
   "execution_count": 23,
   "metadata": {
    "id": "Ix-JqYuPfc_f"
   },
   "outputs": [
    {
     "name": "stdout",
     "output_type": "stream",
     "text": [
      " Дом, который построил Джек!\n"
     ]
    },
    {
     "data": {
      "text/plain": [
       "'Дом который построил Джек'"
      ]
     },
     "execution_count": 23,
     "metadata": {},
     "output_type": "execute_result"
    }
   ],
   "source": [
    "def nopunct(text):\n",
    "    text = text.replace('.', '')\n",
    "    text = text.replace(',', '')\n",
    "    text = text.replace(':', '')\n",
    "    text = text.replace(';', '')\n",
    "    text = text.replace('!', '')\n",
    "    text = text.replace('?', '')\n",
    "    text = text.replace('-', '')\n",
    "    return text\n",
    "\n",
    "# text = input()\n",
    "# nopunct(text)"
   ]
  },
  {
   "cell_type": "code",
   "execution_count": 7,
   "metadata": {},
   "outputs": [
    {
     "name": "stdout",
     "output_type": "stream",
     "text": [
      "Дом который построил Джек"
     ]
    }
   ],
   "source": [
    "def nopunct(text):\n",
    "    for c in text:\n",
    "        if c.isalpha():\n",
    "            new_c = c\n",
    "        elif c.isdigit():\n",
    "            new_c = c\n",
    "        elif c == \" \":\n",
    "            new_c = c\n",
    "        else:\n",
    "            new_c = \"\"\n",
    "        print(new_c, end=\"\")\n",
    "\n",
    "text = input()\n",
    "nopunct(text)"
   ]
  }
 ],
 "metadata": {
  "colab": {
   "authorship_tag": "ABX9TyNq/trjHYhQvy3QOMyEp4yR",
   "collapsed_sections": [],
   "provenance": []
  },
  "kernelspec": {
   "display_name": "Python 3 (ipykernel)",
   "language": "python",
   "name": "python3"
  },
  "language_info": {
   "codemirror_mode": {
    "name": "ipython",
    "version": 3
   },
   "file_extension": ".py",
   "mimetype": "text/x-python",
   "name": "python",
   "nbconvert_exporter": "python",
   "pygments_lexer": "ipython3",
   "version": "3.11.4"
  }
 },
 "nbformat": 4,
 "nbformat_minor": 4
}
